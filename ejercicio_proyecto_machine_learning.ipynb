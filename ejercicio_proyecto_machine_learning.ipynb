{
 "cells": [
  {
   "cell_type": "markdown",
   "metadata": {
    "id": "YSEFYNWdm2Ji"
   },
   "source": [
    "# 🤖 Proyecto Machine Learning\n",
    "## 🥊 Predicción de combates Pokemon\n",
    "En este proyecto se entrenará un modelo para que realice predicciones sobre el ganador de un combate pokemon en función de su tipo, estadisiticas base y ataques.\n",
    "\n",
    "`@author Daniel Ramírez Vaquero`"
   ]
  },
  {
   "cell_type": "code",
   "execution_count": 27,
   "metadata": {
    "id": "UfgVFOOLm2Jj"
   },
   "outputs": [],
   "source": [
    "# %pip install numpy matplotlib pandas scikit-learn seaborn"
   ]
  },
  {
   "cell_type": "code",
   "execution_count": 28,
   "metadata": {
    "id": "zIQWjEENm2Jl"
   },
   "outputs": [],
   "source": [
    "import numpy as np\n",
    "import pandas as pd\n",
    "import matplotlib.pyplot as plt\n",
    "import seaborn as sns"
   ]
  },
  {
   "cell_type": "markdown",
   "metadata": {
    "id": "OENV__ASm2Jl"
   },
   "source": [
    "## Obtención de datos\n",
    "\n",
    "Fuentes:\n",
    "- Pokemons_dataset: Kaggle (Proveniente del sitio oficila de Pokemon).\n",
    "- Combats_dataset: Kaggle (Creado a mano a partir de combates reales).\n",
    "\n",
    "<a href=\"https://www.kaggle.com/datasets/tuannguyenvananh/pokemon-dataset-with-team-combat?resource=download\">Enlace de descarga ⬇️</a>"
   ]
  },
  {
   "cell_type": "code",
   "execution_count": 29,
   "metadata": {
    "id": "WvsdQcIam2Jl"
   },
   "outputs": [],
   "source": [
    "try:\n",
    "  pokemon = pd.read_csv('/content/drive/MyDrive/Colab Notebooks/IA/datasets/pokemon.csv')\n",
    "  combats = pd.read_csv('/content/drive/MyDrive/Colab Notebooks/IA/datasets/combats.csv')\n",
    "except FileNotFoundError:\n",
    "  pokemon = pd.read_csv('./data/pokemon.csv')\n",
    "  combats = pd.read_csv('./data/combats.csv')"
   ]
  },
  {
   "cell_type": "markdown",
   "metadata": {
    "id": "_kRucZP8m2Jl"
   },
   "source": [
    "## Exploración y visualización de datos"
   ]
  },
  {
   "cell_type": "code",
   "execution_count": 30,
   "metadata": {
    "colab": {
     "base_uri": "https://localhost:8080/",
     "height": 206
    },
    "id": "JWgzXnv3m2Jl",
    "outputId": "61b380ad-c16a-494b-ecbd-23369e65c27d"
   },
   "outputs": [
    {
     "data": {
      "text/html": [
       "<div>\n",
       "<style scoped>\n",
       "    .dataframe tbody tr th:only-of-type {\n",
       "        vertical-align: middle;\n",
       "    }\n",
       "\n",
       "    .dataframe tbody tr th {\n",
       "        vertical-align: top;\n",
       "    }\n",
       "\n",
       "    .dataframe thead th {\n",
       "        text-align: right;\n",
       "    }\n",
       "</style>\n",
       "<table border=\"1\" class=\"dataframe\">\n",
       "  <thead>\n",
       "    <tr style=\"text-align: right;\">\n",
       "      <th></th>\n",
       "      <th>#</th>\n",
       "      <th>Name</th>\n",
       "      <th>Type 1</th>\n",
       "      <th>Type 2</th>\n",
       "      <th>HP</th>\n",
       "      <th>Attack</th>\n",
       "      <th>Defense</th>\n",
       "      <th>Sp. Atk</th>\n",
       "      <th>Sp. Def</th>\n",
       "      <th>Speed</th>\n",
       "      <th>Generation</th>\n",
       "      <th>Legendary</th>\n",
       "    </tr>\n",
       "  </thead>\n",
       "  <tbody>\n",
       "    <tr>\n",
       "      <th>0</th>\n",
       "      <td>1</td>\n",
       "      <td>Bulbasaur</td>\n",
       "      <td>Grass</td>\n",
       "      <td>Poison</td>\n",
       "      <td>45</td>\n",
       "      <td>49</td>\n",
       "      <td>49</td>\n",
       "      <td>65</td>\n",
       "      <td>65</td>\n",
       "      <td>45</td>\n",
       "      <td>1</td>\n",
       "      <td>False</td>\n",
       "    </tr>\n",
       "    <tr>\n",
       "      <th>1</th>\n",
       "      <td>2</td>\n",
       "      <td>Ivysaur</td>\n",
       "      <td>Grass</td>\n",
       "      <td>Poison</td>\n",
       "      <td>60</td>\n",
       "      <td>62</td>\n",
       "      <td>63</td>\n",
       "      <td>80</td>\n",
       "      <td>80</td>\n",
       "      <td>60</td>\n",
       "      <td>1</td>\n",
       "      <td>False</td>\n",
       "    </tr>\n",
       "    <tr>\n",
       "      <th>2</th>\n",
       "      <td>3</td>\n",
       "      <td>Venusaur</td>\n",
       "      <td>Grass</td>\n",
       "      <td>Poison</td>\n",
       "      <td>80</td>\n",
       "      <td>82</td>\n",
       "      <td>83</td>\n",
       "      <td>100</td>\n",
       "      <td>100</td>\n",
       "      <td>80</td>\n",
       "      <td>1</td>\n",
       "      <td>False</td>\n",
       "    </tr>\n",
       "    <tr>\n",
       "      <th>3</th>\n",
       "      <td>4</td>\n",
       "      <td>Mega Venusaur</td>\n",
       "      <td>Grass</td>\n",
       "      <td>Poison</td>\n",
       "      <td>80</td>\n",
       "      <td>100</td>\n",
       "      <td>123</td>\n",
       "      <td>122</td>\n",
       "      <td>120</td>\n",
       "      <td>80</td>\n",
       "      <td>1</td>\n",
       "      <td>False</td>\n",
       "    </tr>\n",
       "    <tr>\n",
       "      <th>4</th>\n",
       "      <td>5</td>\n",
       "      <td>Charmander</td>\n",
       "      <td>Fire</td>\n",
       "      <td>NaN</td>\n",
       "      <td>39</td>\n",
       "      <td>52</td>\n",
       "      <td>43</td>\n",
       "      <td>60</td>\n",
       "      <td>50</td>\n",
       "      <td>65</td>\n",
       "      <td>1</td>\n",
       "      <td>False</td>\n",
       "    </tr>\n",
       "  </tbody>\n",
       "</table>\n",
       "</div>"
      ],
      "text/plain": [
       "   #           Name Type 1  Type 2  HP  Attack  Defense  Sp. Atk  Sp. Def  \\\n",
       "0  1      Bulbasaur  Grass  Poison  45      49       49       65       65   \n",
       "1  2        Ivysaur  Grass  Poison  60      62       63       80       80   \n",
       "2  3       Venusaur  Grass  Poison  80      82       83      100      100   \n",
       "3  4  Mega Venusaur  Grass  Poison  80     100      123      122      120   \n",
       "4  5     Charmander   Fire     NaN  39      52       43       60       50   \n",
       "\n",
       "   Speed  Generation  Legendary  \n",
       "0     45           1      False  \n",
       "1     60           1      False  \n",
       "2     80           1      False  \n",
       "3     80           1      False  \n",
       "4     65           1      False  "
      ]
     },
     "execution_count": 30,
     "metadata": {},
     "output_type": "execute_result"
    }
   ],
   "source": [
    "pokemon.head()"
   ]
  },
  {
   "cell_type": "markdown",
   "metadata": {
    "id": "aOj4vGkQm2Jm"
   },
   "source": [
    "Atributos dataset `pokemon`:\n",
    "\n",
    "- `#`: Id del pokemon\n",
    "- `Name`: Nombre del pokemon\n",
    "- `Type 1`: Tipo principal\n",
    "- `Type 2`: Tipo secundario\n",
    "- `HP`: Vida (Hit Points)\n",
    "- `Attack`: Daño de ataque\n",
    "- `Defense`: Defensas\n",
    "- `Sp.Atk`: Velocidad de ataque\n",
    "- `Sp.Def`: Velocidad de defensa\n",
    "- `Speed`: Velocidad\n",
    "- `Generation`: Generación\n",
    "- `Legendary`: Indica si el pokemon es legendario o no"
   ]
  },
  {
   "cell_type": "code",
   "execution_count": 31,
   "metadata": {
    "colab": {
     "base_uri": "https://localhost:8080/",
     "height": 206
    },
    "id": "nk1f0xOum2Jm",
    "outputId": "026a91e1-497d-41d6-92bf-1b94d5ea1202"
   },
   "outputs": [
    {
     "data": {
      "text/html": [
       "<div>\n",
       "<style scoped>\n",
       "    .dataframe tbody tr th:only-of-type {\n",
       "        vertical-align: middle;\n",
       "    }\n",
       "\n",
       "    .dataframe tbody tr th {\n",
       "        vertical-align: top;\n",
       "    }\n",
       "\n",
       "    .dataframe thead th {\n",
       "        text-align: right;\n",
       "    }\n",
       "</style>\n",
       "<table border=\"1\" class=\"dataframe\">\n",
       "  <thead>\n",
       "    <tr style=\"text-align: right;\">\n",
       "      <th></th>\n",
       "      <th>First_pokemon</th>\n",
       "      <th>Second_pokemon</th>\n",
       "      <th>Winner</th>\n",
       "    </tr>\n",
       "  </thead>\n",
       "  <tbody>\n",
       "    <tr>\n",
       "      <th>0</th>\n",
       "      <td>266</td>\n",
       "      <td>298</td>\n",
       "      <td>298</td>\n",
       "    </tr>\n",
       "    <tr>\n",
       "      <th>1</th>\n",
       "      <td>702</td>\n",
       "      <td>701</td>\n",
       "      <td>701</td>\n",
       "    </tr>\n",
       "    <tr>\n",
       "      <th>2</th>\n",
       "      <td>191</td>\n",
       "      <td>668</td>\n",
       "      <td>668</td>\n",
       "    </tr>\n",
       "    <tr>\n",
       "      <th>3</th>\n",
       "      <td>237</td>\n",
       "      <td>683</td>\n",
       "      <td>683</td>\n",
       "    </tr>\n",
       "    <tr>\n",
       "      <th>4</th>\n",
       "      <td>151</td>\n",
       "      <td>231</td>\n",
       "      <td>151</td>\n",
       "    </tr>\n",
       "  </tbody>\n",
       "</table>\n",
       "</div>"
      ],
      "text/plain": [
       "   First_pokemon  Second_pokemon  Winner\n",
       "0            266             298     298\n",
       "1            702             701     701\n",
       "2            191             668     668\n",
       "3            237             683     683\n",
       "4            151             231     151"
      ]
     },
     "execution_count": 31,
     "metadata": {},
     "output_type": "execute_result"
    }
   ],
   "source": [
    "combats.head()"
   ]
  },
  {
   "cell_type": "markdown",
   "metadata": {
    "id": "2iJkdM-em2Jm"
   },
   "source": [
    "Atriburos dataset `combats`:\n",
    "\n",
    "- `First_pokemon`: Id del primer pokemon del combate\n",
    "- `Second_pokemon`: Id del segundo pokemon del combate\n",
    "- `Winner`: Id del pokemon ganador"
   ]
  },
  {
   "cell_type": "code",
   "execution_count": 32,
   "metadata": {
    "colab": {
     "base_uri": "https://localhost:8080/"
    },
    "id": "0JUpwORsm2Jm",
    "outputId": "4d97a582-08cb-4b65-dab2-d5fe81207e06"
   },
   "outputs": [
    {
     "name": "stdout",
     "output_type": "stream",
     "text": [
      "<class 'pandas.core.frame.DataFrame'>\n",
      "RangeIndex: 800 entries, 0 to 799\n",
      "Data columns (total 12 columns):\n",
      " #   Column      Non-Null Count  Dtype \n",
      "---  ------      --------------  ----- \n",
      " 0   #           800 non-null    int64 \n",
      " 1   Name        800 non-null    object\n",
      " 2   Type 1      800 non-null    object\n",
      " 3   Type 2      414 non-null    object\n",
      " 4   HP          800 non-null    int64 \n",
      " 5   Attack      800 non-null    int64 \n",
      " 6   Defense     800 non-null    int64 \n",
      " 7   Sp. Atk     800 non-null    int64 \n",
      " 8   Sp. Def     800 non-null    int64 \n",
      " 9   Speed       800 non-null    int64 \n",
      " 10  Generation  800 non-null    int64 \n",
      " 11  Legendary   800 non-null    bool  \n",
      "dtypes: bool(1), int64(8), object(3)\n",
      "memory usage: 69.7+ KB\n"
     ]
    }
   ],
   "source": [
    "pokemon.info()"
   ]
  },
  {
   "cell_type": "markdown",
   "metadata": {
    "id": "jL5OjltMm2Jm"
   },
   "source": [
    "Observaciones:\n",
    "\n",
    "- Hay algunos pokemons que no tienen `Type 2`, pero esto no es un error del dataset, hay pokemons monotipo.\n",
    "- Tenemos datos en tipo `object` (string), `int` y un dato `boolean`.\n",
    "\n",
    "Veamos cuantos tipos principales de pokemon hay y cuantos hay de cada uno."
   ]
  },
  {
   "cell_type": "code",
   "execution_count": 33,
   "metadata": {
    "colab": {
     "base_uri": "https://localhost:8080/",
     "height": 522
    },
    "id": "nOI0Tc6ym2Jn",
    "outputId": "1e546fb5-3b48-4d68-9970-c4b1c125a4c5"
   },
   "outputs": [
    {
     "data": {
      "image/png": "[encoded data removed]",
      "text/plain": [
       "<Figure size 1000x600 with 1 Axes>"
      ]
     },
     "metadata": {},
     "output_type": "display_data"
    }
   ],
   "source": [
    "df_type1 = pokemon['Type 1'].value_counts()\n",
    "\n",
    "ax = df_type1.plot.barh()\n",
    "\n",
    "ax.figure.set_size_inches(10, 6)\n",
    "\n",
    "ax.bar_label(ax.containers[0])\n",
    "plt.show()"
   ]
  },
  {
   "cell_type": "markdown",
   "metadata": {
    "id": "U7Q0VCptm2Jn"
   },
   "source": [
    "Veamos en general las estadísticas de los pokemons"
   ]
  },
  {
   "cell_type": "code",
   "execution_count": 34,
   "metadata": {
    "colab": {
     "base_uri": "https://localhost:8080/",
     "height": 1000
    },
    "id": "ReRlC_9-m2Jn",
    "outputId": "21c34872-9928-4609-b5a8-353137c41714"
   },
   "outputs": [
    {
     "data": {
      "image/png": "[encoded data removed]",
      "text/plain": [
       "<Figure size 2000x1500 with 6 Axes>"
      ]
     },
     "metadata": {},
     "output_type": "display_data"
    }
   ],
   "source": [
    "pokemons_stats = pokemon.drop(columns=['#', 'Generation', 'Legendary'])\n",
    "\n",
    "pokemons_stats.hist(bins=50, figsize=(20,15))\n",
    "plt.show()"
   ]
  },
  {
   "cell_type": "markdown",
   "metadata": {
    "id": "8FnJ06oqm2Jn"
   },
   "source": [
    "Veamos que estadísticas son las más relevantes para el pokemon ganador."
   ]
  },
  {
   "cell_type": "code",
   "execution_count": 35,
   "metadata": {
    "colab": {
     "base_uri": "https://localhost:8080/",
     "height": 565
    },
    "id": "Q9b5PTaMm2Jn",
    "outputId": "2b4a3e26-586c-4383-b92a-1496627e4b44"
   },
   "outputs": [
    {
     "data": {
      "image/png": "[encoded data removed]",
      "text/plain": [
       "<Figure size 1000x600 with 1 Axes>"
      ]
     },
     "metadata": {},
     "output_type": "display_data"
    }
   ],
   "source": [
    "# Renombrar la columna '#' a 'Id' si no se ha hecho ya\n",
    "pokemon.rename(columns={'#': 'Id'}, inplace=True)\n",
    "\n",
    "# Suponiendo que 'Winner' indica si un Pokémon ha ganado o no\n",
    "# y que tienes una columna 'Result' donde 'Winner' y 'Loser' están etiquetados\n",
    "pokemon['Result'] = pokemon['Id'].apply(lambda x: 'Winner' if x in combats['Winner'].values else 'Loser')\n",
    "\n",
    "# Ajusta 'stat_column' a la estadística que quieras visualizar: 'HP', 'Attack', etc.\n",
    "stat_column = 'Attack'\n",
    "plt.figure(figsize=(10, 6))\n",
    "sns.boxplot(data=pokemon, x='Result', y=stat_column)\n",
    "plt.title(f'Distribución de {stat_column} entre Pokémon Ganadores y Perdedores')\n",
    "plt.show()"
   ]
  },
  {
   "cell_type": "markdown",
   "metadata": {
    "id": "h5YnKR-Cm2Jn"
   },
   "source": [
    "Tambien podemos ver que tipos de pokemon tiene mayor WinRate"
   ]
  },
  {
   "cell_type": "code",
   "execution_count": 36,
   "metadata": {
    "colab": {
     "base_uri": "https://localhost:8080/",
     "height": 847
    },
    "id": "iPlWuZqKm2Jn",
    "outputId": "931be9c6-2518-4036-c3cc-98603dc19d10"
   },
   "outputs": [
    {
     "name": "stderr",
     "output_type": "stream",
     "text": [
      "C:\\Users\\d.ramirez.vaquero\\AppData\\Local\\Temp\\ipykernel_24980\\759465632.py:4: FutureWarning: \n",
      "\n",
      "Passing `palette` without assigning `hue` is deprecated and will be removed in v0.14.0. Assign the `x` variable to `hue` and set `legend=False` for the same effect.\n",
      "\n",
      "  sns.countplot(data=winners, x='Type 1', order=winners['Type 1'].value_counts().index, palette=\"viridis\")\n"
     ]
    },
    {
     "data": {
      "image/png": "[encoded data removed]",
      "text/plain": [
       "<Figure size 1200x800 with 1 Axes>"
      ]
     },
     "metadata": {},
     "output_type": "display_data"
    }
   ],
   "source": [
    "# Crea una columna de 'Ganador' para cada tipo de Pokémon\n",
    "winners = pokemon[pokemon['Id'].isin(combats['Winner'])]\n",
    "plt.figure(figsize=(12, 8))\n",
    "sns.countplot(data=winners, x='Type 1', order=winners['Type 1'].value_counts().index, palette=\"viridis\")\n",
    "plt.title('Frecuencia de victorias según Tipo 1 de Pokémon')\n",
    "plt.xticks(rotation=90)\n",
    "plt.show()"
   ]
  },
  {
   "cell_type": "markdown",
   "metadata": {
    "id": "pRLuAF78m2Jo"
   },
   "source": [
    "Y por último podemos ver si las generaciones de los pokemons afectan a los resultados"
   ]
  },
  {
   "cell_type": "code",
   "execution_count": 37,
   "metadata": {
    "colab": {
     "base_uri": "https://localhost:8080/",
     "height": 652
    },
    "id": "8ln_gEXVm2Jo",
    "outputId": "ca0643fe-d12c-4d97-e7ed-4649e67162ee"
   },
   "outputs": [
    {
     "name": "stderr",
     "output_type": "stream",
     "text": [
      "C:\\Users\\d.ramirez.vaquero\\AppData\\Local\\Temp\\ipykernel_24980\\2774387961.py:3: FutureWarning: \n",
      "\n",
      "Passing `palette` without assigning `hue` is deprecated and will be removed in v0.14.0. Assign the `x` variable to `hue` and set `legend=False` for the same effect.\n",
      "\n",
      "  sns.countplot(data=winners, x='Generation', palette='Set2')\n"
     ]
    },
    {
     "data": {
      "image/png": "[encoded data removed]",
      "text/plain": [
       "<Figure size 1000x600 with 1 Axes>"
      ]
     },
     "metadata": {},
     "output_type": "display_data"
    }
   ],
   "source": [
    "winners = pokemon[pokemon['Id'].isin(combats['Winner'])]\n",
    "plt.figure(figsize=(10, 6))\n",
    "sns.countplot(data=winners, x='Generation', palette='Set2')\n",
    "plt.title('Frecuencia de victorias según la Generación de Pokémon')\n",
    "plt.show()"
   ]
  },
  {
   "cell_type": "markdown",
   "metadata": {
    "id": "OHlYiXXSm2Jo"
   },
   "source": [
    "## Preparación de los datos\n",
    "En este caso tendremos que crear un data frame uniendo los datasets de combates y pokemons.\n",
    "\n",
    "Vamos a ignorar las columnas de `Type 1`, `Type 2` y `Legendary` ya que no son datos numéricos y como hemos visto en las gráficas no son muy relevantes.\n",
    "\n",
    "También crearemos características para nuestro modelo."
   ]
  },
  {
   "cell_type": "code",
   "execution_count": 38,
   "metadata": {
    "id": "I_X8J4trm2Jo"
   },
   "outputs": [],
   "source": [
    "# Primero renombro la columna # para que sea más fácil hacer el join\n",
    "pokemon.rename(columns={'#': 'Id'}, inplace=True)\n",
    "\n",
    "# Uno los datos de combates con los datos de los pokemons\n",
    "combats = combats.merge(pokemon, left_on='First_pokemon', right_on='Id')\n",
    "combats = combats.merge(pokemon, left_on='Second_pokemon', right_on='Id', suffixes=('_first', '_second'))\n",
    "\n",
    "# Crear características para el modelo\n",
    "features = combats[['HP_first', 'Attack_first', 'Defense_first', 'Sp. Atk_first', 'Sp. Def_first', 'Speed_first',\n",
    "                    'HP_second', 'Attack_second', 'Defense_second', 'Sp. Atk_second', 'Sp. Def_second', 'Speed_second']]\n",
    "\n",
    "# En labels guardo la columna Winner que será el target\n",
    "labels = combats['Winner']"
   ]
  },
  {
   "cell_type": "markdown",
   "metadata": {
    "id": "_66uOyJEm2Jo"
   },
   "source": [
    "### Gestión de nulos\n",
    "\n",
    "Comprobamos si tenemos algún nulo en los datos que hemos preparado"
   ]
  },
  {
   "cell_type": "code",
   "execution_count": 39,
   "metadata": {
    "colab": {
     "base_uri": "https://localhost:8080/"
    },
    "id": "Xn4U1l9dm2Jo",
    "outputId": "8fd8d14f-d0f3-4c9a-d5d9-cfc868f2606e"
   },
   "outputs": [
    {
     "name": "stdout",
     "output_type": "stream",
     "text": [
      "<class 'pandas.core.frame.DataFrame'>\n",
      "RangeIndex: 50000 entries, 0 to 49999\n",
      "Data columns (total 12 columns):\n",
      " #   Column          Non-Null Count  Dtype\n",
      "---  ------          --------------  -----\n",
      " 0   HP_first        50000 non-null  int64\n",
      " 1   Attack_first    50000 non-null  int64\n",
      " 2   Defense_first   50000 non-null  int64\n",
      " 3   Sp. Atk_first   50000 non-null  int64\n",
      " 4   Sp. Def_first   50000 non-null  int64\n",
      " 5   Speed_first     50000 non-null  int64\n",
      " 6   HP_second       50000 non-null  int64\n",
      " 7   Attack_second   50000 non-null  int64\n",
      " 8   Defense_second  50000 non-null  int64\n",
      " 9   Sp. Atk_second  50000 non-null  int64\n",
      " 10  Sp. Def_second  50000 non-null  int64\n",
      " 11  Speed_second    50000 non-null  int64\n",
      "dtypes: int64(12)\n",
      "memory usage: 4.6 MB\n"
     ]
    }
   ],
   "source": [
    "features.info()"
   ]
  },
  {
   "cell_type": "code",
   "execution_count": 40,
   "metadata": {
    "colab": {
     "base_uri": "https://localhost:8080/",
     "height": 241
    },
    "id": "8az-yyQom2Jo",
    "outputId": "b0fcf158-1d5b-46bb-f57c-4b1562821f30"
   },
   "outputs": [
    {
     "data": {
      "text/plain": [
       "0    298\n",
       "1    701\n",
       "2    668\n",
       "3    683\n",
       "4    151\n",
       "Name: Winner, dtype: int64"
      ]
     },
     "execution_count": 40,
     "metadata": {},
     "output_type": "execute_result"
    }
   ],
   "source": [
    "labels.head()"
   ]
  },
  {
   "cell_type": "markdown",
   "metadata": {
    "id": "sbZyVbb8m2Jp"
   },
   "source": [
    "### Separación de la matriz de características $X$ de los datos de salida $y$ (target)\n"
   ]
  },
  {
   "cell_type": "code",
   "execution_count": 41,
   "metadata": {
    "colab": {
     "base_uri": "https://localhost:8080/",
     "height": 458
    },
    "id": "S2RY2BjFm2Jp",
    "outputId": "a4453741-bc10-4774-a301-905084fe8f75"
   },
   "outputs": [
    {
     "data": {
      "text/plain": [
       "0        298\n",
       "1        701\n",
       "2        668\n",
       "3        683\n",
       "4        151\n",
       "        ... \n",
       "49995    707\n",
       "49996    589\n",
       "49997    368\n",
       "49998    109\n",
       "49999      9\n",
       "Name: Winner, Length: 50000, dtype: int64"
      ]
     },
     "execution_count": 41,
     "metadata": {},
     "output_type": "execute_result"
    }
   ],
   "source": [
    "y = labels\n",
    "y"
   ]
  },
  {
   "cell_type": "code",
   "execution_count": 42,
   "metadata": {
    "colab": {
     "base_uri": "https://localhost:8080/",
     "height": 424
    },
    "id": "bT-RlyMqm2Jp",
    "outputId": "dfcba5c2-4a24-40ea-d0d8-fc267a1aa1e4"
   },
   "outputs": [
    {
     "data": {
      "text/html": [
       "<div>\n",
       "<style scoped>\n",
       "    .dataframe tbody tr th:only-of-type {\n",
       "        vertical-align: middle;\n",
       "    }\n",
       "\n",
       "    .dataframe tbody tr th {\n",
       "        vertical-align: top;\n",
       "    }\n",
       "\n",
       "    .dataframe thead th {\n",
       "        text-align: right;\n",
       "    }\n",
       "</style>\n",
       "<table border=\"1\" class=\"dataframe\">\n",
       "  <thead>\n",
       "    <tr style=\"text-align: right;\">\n",
       "      <th></th>\n",
       "      <th>HP_first</th>\n",
       "      <th>Attack_first</th>\n",
       "      <th>Defense_first</th>\n",
       "      <th>Sp. Atk_first</th>\n",
       "      <th>Sp. Def_first</th>\n",
       "      <th>Speed_first</th>\n",
       "      <th>HP_second</th>\n",
       "      <th>Attack_second</th>\n",
       "      <th>Defense_second</th>\n",
       "      <th>Sp. Atk_second</th>\n",
       "      <th>Sp. Def_second</th>\n",
       "      <th>Speed_second</th>\n",
       "    </tr>\n",
       "  </thead>\n",
       "  <tbody>\n",
       "    <tr>\n",
       "      <th>0</th>\n",
       "      <td>50</td>\n",
       "      <td>64</td>\n",
       "      <td>50</td>\n",
       "      <td>45</td>\n",
       "      <td>50</td>\n",
       "      <td>41</td>\n",
       "      <td>70</td>\n",
       "      <td>70</td>\n",
       "      <td>40</td>\n",
       "      <td>60</td>\n",
       "      <td>40</td>\n",
       "      <td>60</td>\n",
       "    </tr>\n",
       "    <tr>\n",
       "      <th>1</th>\n",
       "      <td>91</td>\n",
       "      <td>90</td>\n",
       "      <td>72</td>\n",
       "      <td>90</td>\n",
       "      <td>129</td>\n",
       "      <td>108</td>\n",
       "      <td>91</td>\n",
       "      <td>129</td>\n",
       "      <td>90</td>\n",
       "      <td>72</td>\n",
       "      <td>90</td>\n",
       "      <td>108</td>\n",
       "    </tr>\n",
       "    <tr>\n",
       "      <th>2</th>\n",
       "      <td>55</td>\n",
       "      <td>40</td>\n",
       "      <td>85</td>\n",
       "      <td>80</td>\n",
       "      <td>105</td>\n",
       "      <td>40</td>\n",
       "      <td>75</td>\n",
       "      <td>75</td>\n",
       "      <td>75</td>\n",
       "      <td>125</td>\n",
       "      <td>95</td>\n",
       "      <td>40</td>\n",
       "    </tr>\n",
       "    <tr>\n",
       "      <th>3</th>\n",
       "      <td>40</td>\n",
       "      <td>40</td>\n",
       "      <td>40</td>\n",
       "      <td>70</td>\n",
       "      <td>40</td>\n",
       "      <td>20</td>\n",
       "      <td>77</td>\n",
       "      <td>120</td>\n",
       "      <td>90</td>\n",
       "      <td>60</td>\n",
       "      <td>90</td>\n",
       "      <td>48</td>\n",
       "    </tr>\n",
       "    <tr>\n",
       "      <th>4</th>\n",
       "      <td>70</td>\n",
       "      <td>60</td>\n",
       "      <td>125</td>\n",
       "      <td>115</td>\n",
       "      <td>70</td>\n",
       "      <td>55</td>\n",
       "      <td>20</td>\n",
       "      <td>10</td>\n",
       "      <td>230</td>\n",
       "      <td>10</td>\n",
       "      <td>230</td>\n",
       "      <td>5</td>\n",
       "    </tr>\n",
       "    <tr>\n",
       "      <th>...</th>\n",
       "      <td>...</td>\n",
       "      <td>...</td>\n",
       "      <td>...</td>\n",
       "      <td>...</td>\n",
       "      <td>...</td>\n",
       "      <td>...</td>\n",
       "      <td>...</td>\n",
       "      <td>...</td>\n",
       "      <td>...</td>\n",
       "      <td>...</td>\n",
       "      <td>...</td>\n",
       "      <td>...</td>\n",
       "    </tr>\n",
       "    <tr>\n",
       "      <th>49995</th>\n",
       "      <td>100</td>\n",
       "      <td>120</td>\n",
       "      <td>100</td>\n",
       "      <td>150</td>\n",
       "      <td>120</td>\n",
       "      <td>90</td>\n",
       "      <td>30</td>\n",
       "      <td>40</td>\n",
       "      <td>70</td>\n",
       "      <td>70</td>\n",
       "      <td>25</td>\n",
       "      <td>60</td>\n",
       "    </tr>\n",
       "    <tr>\n",
       "      <th>49996</th>\n",
       "      <td>60</td>\n",
       "      <td>85</td>\n",
       "      <td>40</td>\n",
       "      <td>30</td>\n",
       "      <td>45</td>\n",
       "      <td>68</td>\n",
       "      <td>35</td>\n",
       "      <td>55</td>\n",
       "      <td>40</td>\n",
       "      <td>45</td>\n",
       "      <td>40</td>\n",
       "      <td>60</td>\n",
       "    </tr>\n",
       "    <tr>\n",
       "      <th>49997</th>\n",
       "      <td>60</td>\n",
       "      <td>50</td>\n",
       "      <td>100</td>\n",
       "      <td>85</td>\n",
       "      <td>70</td>\n",
       "      <td>65</td>\n",
       "      <td>73</td>\n",
       "      <td>115</td>\n",
       "      <td>60</td>\n",
       "      <td>60</td>\n",
       "      <td>60</td>\n",
       "      <td>90</td>\n",
       "    </tr>\n",
       "    <tr>\n",
       "      <th>49998</th>\n",
       "      <td>40</td>\n",
       "      <td>30</td>\n",
       "      <td>50</td>\n",
       "      <td>55</td>\n",
       "      <td>55</td>\n",
       "      <td>100</td>\n",
       "      <td>25</td>\n",
       "      <td>35</td>\n",
       "      <td>70</td>\n",
       "      <td>95</td>\n",
       "      <td>55</td>\n",
       "      <td>45</td>\n",
       "    </tr>\n",
       "    <tr>\n",
       "      <th>49999</th>\n",
       "      <td>78</td>\n",
       "      <td>104</td>\n",
       "      <td>78</td>\n",
       "      <td>159</td>\n",
       "      <td>115</td>\n",
       "      <td>100</td>\n",
       "      <td>70</td>\n",
       "      <td>80</td>\n",
       "      <td>50</td>\n",
       "      <td>35</td>\n",
       "      <td>35</td>\n",
       "      <td>35</td>\n",
       "    </tr>\n",
       "  </tbody>\n",
       "</table>\n",
       "<p>50000 rows × 12 columns</p>\n",
       "</div>"
      ],
      "text/plain": [
       "       HP_first  Attack_first  Defense_first  Sp. Atk_first  Sp. Def_first  \\\n",
       "0            50            64             50             45             50   \n",
       "1            91            90             72             90            129   \n",
       "2            55            40             85             80            105   \n",
       "3            40            40             40             70             40   \n",
       "4            70            60            125            115             70   \n",
       "...         ...           ...            ...            ...            ...   \n",
       "49995       100           120            100            150            120   \n",
       "49996        60            85             40             30             45   \n",
       "49997        60            50            100             85             70   \n",
       "49998        40            30             50             55             55   \n",
       "49999        78           104             78            159            115   \n",
       "\n",
       "       Speed_first  HP_second  Attack_second  Defense_second  Sp. Atk_second  \\\n",
       "0               41         70             70              40              60   \n",
       "1              108         91            129              90              72   \n",
       "2               40         75             75              75             125   \n",
       "3               20         77            120              90              60   \n",
       "4               55         20             10             230              10   \n",
       "...            ...        ...            ...             ...             ...   \n",
       "49995           90         30             40              70              70   \n",
       "49996           68         35             55              40              45   \n",
       "49997           65         73            115              60              60   \n",
       "49998          100         25             35              70              95   \n",
       "49999          100         70             80              50              35   \n",
       "\n",
       "       Sp. Def_second  Speed_second  \n",
       "0                  40            60  \n",
       "1                  90           108  \n",
       "2                  95            40  \n",
       "3                  90            48  \n",
       "4                 230             5  \n",
       "...               ...           ...  \n",
       "49995              25            60  \n",
       "49996              40            60  \n",
       "49997              60            90  \n",
       "49998              55            45  \n",
       "49999              35            35  \n",
       "\n",
       "[50000 rows x 12 columns]"
      ]
     },
     "execution_count": 42,
     "metadata": {},
     "output_type": "execute_result"
    }
   ],
   "source": [
    "X = features\n",
    "X"
   ]
  },
  {
   "cell_type": "markdown",
   "metadata": {
    "id": "B4PSQTuPm2Jp"
   },
   "source": [
    "### Creación de los datos de entramiento y prueba"
   ]
  },
  {
   "cell_type": "code",
   "execution_count": 43,
   "metadata": {
    "id": "wtb6Fh1Km2Jp"
   },
   "outputs": [],
   "source": [
    "from sklearn.model_selection import train_test_split\n",
    "\n",
    "X_train, X_test, y_train, y_test = train_test_split(X, y, test_size=0.20, random_state=42, shuffle=True)"
   ]
  },
  {
   "cell_type": "code",
   "execution_count": 44,
   "metadata": {
    "colab": {
     "base_uri": "https://localhost:8080/",
     "height": 424
    },
    "id": "RWXfgW-tm2Jp",
    "outputId": "8948a83b-f316-4b1c-bb9f-7ba2390915c9"
   },
   "outputs": [
    {
     "data": {
      "text/html": [
       "<div>\n",
       "<style scoped>\n",
       "    .dataframe tbody tr th:only-of-type {\n",
       "        vertical-align: middle;\n",
       "    }\n",
       "\n",
       "    .dataframe tbody tr th {\n",
       "        vertical-align: top;\n",
       "    }\n",
       "\n",
       "    .dataframe thead th {\n",
       "        text-align: right;\n",
       "    }\n",
       "</style>\n",
       "<table border=\"1\" class=\"dataframe\">\n",
       "  <thead>\n",
       "    <tr style=\"text-align: right;\">\n",
       "      <th></th>\n",
       "      <th>HP_first</th>\n",
       "      <th>Attack_first</th>\n",
       "      <th>Defense_first</th>\n",
       "      <th>Sp. Atk_first</th>\n",
       "      <th>Sp. Def_first</th>\n",
       "      <th>Speed_first</th>\n",
       "      <th>HP_second</th>\n",
       "      <th>Attack_second</th>\n",
       "      <th>Defense_second</th>\n",
       "      <th>Sp. Atk_second</th>\n",
       "      <th>Sp. Def_second</th>\n",
       "      <th>Speed_second</th>\n",
       "    </tr>\n",
       "  </thead>\n",
       "  <tbody>\n",
       "    <tr>\n",
       "      <th>39087</th>\n",
       "      <td>50</td>\n",
       "      <td>75</td>\n",
       "      <td>45</td>\n",
       "      <td>40</td>\n",
       "      <td>45</td>\n",
       "      <td>60</td>\n",
       "      <td>50</td>\n",
       "      <td>55</td>\n",
       "      <td>50</td>\n",
       "      <td>36</td>\n",
       "      <td>30</td>\n",
       "      <td>43</td>\n",
       "    </tr>\n",
       "    <tr>\n",
       "      <th>30893</th>\n",
       "      <td>70</td>\n",
       "      <td>60</td>\n",
       "      <td>125</td>\n",
       "      <td>115</td>\n",
       "      <td>70</td>\n",
       "      <td>55</td>\n",
       "      <td>65</td>\n",
       "      <td>63</td>\n",
       "      <td>45</td>\n",
       "      <td>45</td>\n",
       "      <td>45</td>\n",
       "      <td>45</td>\n",
       "    </tr>\n",
       "    <tr>\n",
       "      <th>45278</th>\n",
       "      <td>70</td>\n",
       "      <td>75</td>\n",
       "      <td>80</td>\n",
       "      <td>135</td>\n",
       "      <td>80</td>\n",
       "      <td>135</td>\n",
       "      <td>80</td>\n",
       "      <td>95</td>\n",
       "      <td>82</td>\n",
       "      <td>60</td>\n",
       "      <td>82</td>\n",
       "      <td>75</td>\n",
       "    </tr>\n",
       "    <tr>\n",
       "      <th>16398</th>\n",
       "      <td>95</td>\n",
       "      <td>110</td>\n",
       "      <td>95</td>\n",
       "      <td>40</td>\n",
       "      <td>95</td>\n",
       "      <td>55</td>\n",
       "      <td>75</td>\n",
       "      <td>100</td>\n",
       "      <td>95</td>\n",
       "      <td>40</td>\n",
       "      <td>70</td>\n",
       "      <td>110</td>\n",
       "    </tr>\n",
       "    <tr>\n",
       "      <th>13653</th>\n",
       "      <td>45</td>\n",
       "      <td>40</td>\n",
       "      <td>60</td>\n",
       "      <td>40</td>\n",
       "      <td>75</td>\n",
       "      <td>50</td>\n",
       "      <td>40</td>\n",
       "      <td>45</td>\n",
       "      <td>65</td>\n",
       "      <td>100</td>\n",
       "      <td>120</td>\n",
       "      <td>90</td>\n",
       "    </tr>\n",
       "    <tr>\n",
       "      <th>...</th>\n",
       "      <td>...</td>\n",
       "      <td>...</td>\n",
       "      <td>...</td>\n",
       "      <td>...</td>\n",
       "      <td>...</td>\n",
       "      <td>...</td>\n",
       "      <td>...</td>\n",
       "      <td>...</td>\n",
       "      <td>...</td>\n",
       "      <td>...</td>\n",
       "      <td>...</td>\n",
       "      <td>...</td>\n",
       "    </tr>\n",
       "    <tr>\n",
       "      <th>11284</th>\n",
       "      <td>60</td>\n",
       "      <td>67</td>\n",
       "      <td>85</td>\n",
       "      <td>77</td>\n",
       "      <td>75</td>\n",
       "      <td>116</td>\n",
       "      <td>55</td>\n",
       "      <td>104</td>\n",
       "      <td>105</td>\n",
       "      <td>94</td>\n",
       "      <td>75</td>\n",
       "      <td>52</td>\n",
       "    </tr>\n",
       "    <tr>\n",
       "      <th>44732</th>\n",
       "      <td>50</td>\n",
       "      <td>60</td>\n",
       "      <td>60</td>\n",
       "      <td>60</td>\n",
       "      <td>60</td>\n",
       "      <td>30</td>\n",
       "      <td>65</td>\n",
       "      <td>60</td>\n",
       "      <td>70</td>\n",
       "      <td>85</td>\n",
       "      <td>75</td>\n",
       "      <td>40</td>\n",
       "    </tr>\n",
       "    <tr>\n",
       "      <th>38158</th>\n",
       "      <td>78</td>\n",
       "      <td>65</td>\n",
       "      <td>68</td>\n",
       "      <td>112</td>\n",
       "      <td>154</td>\n",
       "      <td>75</td>\n",
       "      <td>104</td>\n",
       "      <td>91</td>\n",
       "      <td>63</td>\n",
       "      <td>91</td>\n",
       "      <td>73</td>\n",
       "      <td>68</td>\n",
       "    </tr>\n",
       "    <tr>\n",
       "      <th>860</th>\n",
       "      <td>60</td>\n",
       "      <td>45</td>\n",
       "      <td>70</td>\n",
       "      <td>45</td>\n",
       "      <td>90</td>\n",
       "      <td>95</td>\n",
       "      <td>50</td>\n",
       "      <td>65</td>\n",
       "      <td>107</td>\n",
       "      <td>105</td>\n",
       "      <td>107</td>\n",
       "      <td>86</td>\n",
       "    </tr>\n",
       "    <tr>\n",
       "      <th>15795</th>\n",
       "      <td>70</td>\n",
       "      <td>140</td>\n",
       "      <td>70</td>\n",
       "      <td>110</td>\n",
       "      <td>65</td>\n",
       "      <td>105</td>\n",
       "      <td>110</td>\n",
       "      <td>130</td>\n",
       "      <td>80</td>\n",
       "      <td>70</td>\n",
       "      <td>60</td>\n",
       "      <td>80</td>\n",
       "    </tr>\n",
       "  </tbody>\n",
       "</table>\n",
       "<p>40000 rows × 12 columns</p>\n",
       "</div>"
      ],
      "text/plain": [
       "       HP_first  Attack_first  Defense_first  Sp. Atk_first  Sp. Def_first  \\\n",
       "39087        50            75             45             40             45   \n",
       "30893        70            60            125            115             70   \n",
       "45278        70            75             80            135             80   \n",
       "16398        95           110             95             40             95   \n",
       "13653        45            40             60             40             75   \n",
       "...         ...           ...            ...            ...            ...   \n",
       "11284        60            67             85             77             75   \n",
       "44732        50            60             60             60             60   \n",
       "38158        78            65             68            112            154   \n",
       "860          60            45             70             45             90   \n",
       "15795        70           140             70            110             65   \n",
       "\n",
       "       Speed_first  HP_second  Attack_second  Defense_second  Sp. Atk_second  \\\n",
       "39087           60         50             55              50              36   \n",
       "30893           55         65             63              45              45   \n",
       "45278          135         80             95              82              60   \n",
       "16398           55         75            100              95              40   \n",
       "13653           50         40             45              65             100   \n",
       "...            ...        ...            ...             ...             ...   \n",
       "11284          116         55            104             105              94   \n",
       "44732           30         65             60              70              85   \n",
       "38158           75        104             91              63              91   \n",
       "860             95         50             65             107             105   \n",
       "15795          105        110            130              80              70   \n",
       "\n",
       "       Sp. Def_second  Speed_second  \n",
       "39087              30            43  \n",
       "30893              45            45  \n",
       "45278              82            75  \n",
       "16398              70           110  \n",
       "13653             120            90  \n",
       "...               ...           ...  \n",
       "11284              75            52  \n",
       "44732              75            40  \n",
       "38158              73            68  \n",
       "860               107            86  \n",
       "15795              60            80  \n",
       "\n",
       "[40000 rows x 12 columns]"
      ]
     },
     "execution_count": 44,
     "metadata": {},
     "output_type": "execute_result"
    }
   ],
   "source": [
    "X_train"
   ]
  },
  {
   "cell_type": "code",
   "execution_count": 45,
   "metadata": {
    "colab": {
     "base_uri": "https://localhost:8080/",
     "height": 424
    },
    "id": "28o6wfhMm2Jq",
    "outputId": "9198bb2f-770e-46b0-aaec-d1388396c3ef"
   },
   "outputs": [
    {
     "data": {
      "text/html": [
       "<div>\n",
       "<style scoped>\n",
       "    .dataframe tbody tr th:only-of-type {\n",
       "        vertical-align: middle;\n",
       "    }\n",
       "\n",
       "    .dataframe tbody tr th {\n",
       "        vertical-align: top;\n",
       "    }\n",
       "\n",
       "    .dataframe thead th {\n",
       "        text-align: right;\n",
       "    }\n",
       "</style>\n",
       "<table border=\"1\" class=\"dataframe\">\n",
       "  <thead>\n",
       "    <tr style=\"text-align: right;\">\n",
       "      <th></th>\n",
       "      <th>HP_first</th>\n",
       "      <th>Attack_first</th>\n",
       "      <th>Defense_first</th>\n",
       "      <th>Sp. Atk_first</th>\n",
       "      <th>Sp. Def_first</th>\n",
       "      <th>Speed_first</th>\n",
       "      <th>HP_second</th>\n",
       "      <th>Attack_second</th>\n",
       "      <th>Defense_second</th>\n",
       "      <th>Sp. Atk_second</th>\n",
       "      <th>Sp. Def_second</th>\n",
       "      <th>Speed_second</th>\n",
       "    </tr>\n",
       "  </thead>\n",
       "  <tbody>\n",
       "    <tr>\n",
       "      <th>33553</th>\n",
       "      <td>85</td>\n",
       "      <td>115</td>\n",
       "      <td>80</td>\n",
       "      <td>105</td>\n",
       "      <td>80</td>\n",
       "      <td>50</td>\n",
       "      <td>80</td>\n",
       "      <td>80</td>\n",
       "      <td>80</td>\n",
       "      <td>80</td>\n",
       "      <td>80</td>\n",
       "      <td>80</td>\n",
       "    </tr>\n",
       "    <tr>\n",
       "      <th>9427</th>\n",
       "      <td>100</td>\n",
       "      <td>164</td>\n",
       "      <td>150</td>\n",
       "      <td>95</td>\n",
       "      <td>120</td>\n",
       "      <td>71</td>\n",
       "      <td>39</td>\n",
       "      <td>52</td>\n",
       "      <td>43</td>\n",
       "      <td>60</td>\n",
       "      <td>50</td>\n",
       "      <td>65</td>\n",
       "    </tr>\n",
       "    <tr>\n",
       "      <th>199</th>\n",
       "      <td>70</td>\n",
       "      <td>120</td>\n",
       "      <td>65</td>\n",
       "      <td>45</td>\n",
       "      <td>85</td>\n",
       "      <td>125</td>\n",
       "      <td>53</td>\n",
       "      <td>51</td>\n",
       "      <td>53</td>\n",
       "      <td>61</td>\n",
       "      <td>56</td>\n",
       "      <td>40</td>\n",
       "    </tr>\n",
       "    <tr>\n",
       "      <th>12447</th>\n",
       "      <td>50</td>\n",
       "      <td>85</td>\n",
       "      <td>125</td>\n",
       "      <td>85</td>\n",
       "      <td>115</td>\n",
       "      <td>20</td>\n",
       "      <td>65</td>\n",
       "      <td>60</td>\n",
       "      <td>70</td>\n",
       "      <td>85</td>\n",
       "      <td>75</td>\n",
       "      <td>40</td>\n",
       "    </tr>\n",
       "    <tr>\n",
       "      <th>39489</th>\n",
       "      <td>90</td>\n",
       "      <td>65</td>\n",
       "      <td>65</td>\n",
       "      <td>40</td>\n",
       "      <td>40</td>\n",
       "      <td>15</td>\n",
       "      <td>90</td>\n",
       "      <td>95</td>\n",
       "      <td>95</td>\n",
       "      <td>70</td>\n",
       "      <td>90</td>\n",
       "      <td>70</td>\n",
       "    </tr>\n",
       "    <tr>\n",
       "      <th>...</th>\n",
       "      <td>...</td>\n",
       "      <td>...</td>\n",
       "      <td>...</td>\n",
       "      <td>...</td>\n",
       "      <td>...</td>\n",
       "      <td>...</td>\n",
       "      <td>...</td>\n",
       "      <td>...</td>\n",
       "      <td>...</td>\n",
       "      <td>...</td>\n",
       "      <td>...</td>\n",
       "      <td>...</td>\n",
       "    </tr>\n",
       "    <tr>\n",
       "      <th>28567</th>\n",
       "      <td>75</td>\n",
       "      <td>75</td>\n",
       "      <td>60</td>\n",
       "      <td>83</td>\n",
       "      <td>60</td>\n",
       "      <td>60</td>\n",
       "      <td>60</td>\n",
       "      <td>80</td>\n",
       "      <td>95</td>\n",
       "      <td>70</td>\n",
       "      <td>85</td>\n",
       "      <td>50</td>\n",
       "    </tr>\n",
       "    <tr>\n",
       "      <th>25079</th>\n",
       "      <td>30</td>\n",
       "      <td>105</td>\n",
       "      <td>90</td>\n",
       "      <td>25</td>\n",
       "      <td>25</td>\n",
       "      <td>50</td>\n",
       "      <td>130</td>\n",
       "      <td>85</td>\n",
       "      <td>80</td>\n",
       "      <td>85</td>\n",
       "      <td>95</td>\n",
       "      <td>60</td>\n",
       "    </tr>\n",
       "    <tr>\n",
       "      <th>18707</th>\n",
       "      <td>71</td>\n",
       "      <td>95</td>\n",
       "      <td>85</td>\n",
       "      <td>110</td>\n",
       "      <td>95</td>\n",
       "      <td>79</td>\n",
       "      <td>79</td>\n",
       "      <td>105</td>\n",
       "      <td>70</td>\n",
       "      <td>145</td>\n",
       "      <td>80</td>\n",
       "      <td>101</td>\n",
       "    </tr>\n",
       "    <tr>\n",
       "      <th>15200</th>\n",
       "      <td>40</td>\n",
       "      <td>40</td>\n",
       "      <td>35</td>\n",
       "      <td>50</td>\n",
       "      <td>100</td>\n",
       "      <td>70</td>\n",
       "      <td>53</td>\n",
       "      <td>54</td>\n",
       "      <td>53</td>\n",
       "      <td>37</td>\n",
       "      <td>46</td>\n",
       "      <td>45</td>\n",
       "    </tr>\n",
       "    <tr>\n",
       "      <th>5857</th>\n",
       "      <td>120</td>\n",
       "      <td>70</td>\n",
       "      <td>120</td>\n",
       "      <td>75</td>\n",
       "      <td>130</td>\n",
       "      <td>85</td>\n",
       "      <td>45</td>\n",
       "      <td>20</td>\n",
       "      <td>50</td>\n",
       "      <td>60</td>\n",
       "      <td>120</td>\n",
       "      <td>50</td>\n",
       "    </tr>\n",
       "  </tbody>\n",
       "</table>\n",
       "<p>10000 rows × 12 columns</p>\n",
       "</div>"
      ],
      "text/plain": [
       "       HP_first  Attack_first  Defense_first  Sp. Atk_first  Sp. Def_first  \\\n",
       "33553        85           115             80            105             80   \n",
       "9427        100           164            150             95            120   \n",
       "199          70           120             65             45             85   \n",
       "12447        50            85            125             85            115   \n",
       "39489        90            65             65             40             40   \n",
       "...         ...           ...            ...            ...            ...   \n",
       "28567        75            75             60             83             60   \n",
       "25079        30           105             90             25             25   \n",
       "18707        71            95             85            110             95   \n",
       "15200        40            40             35             50            100   \n",
       "5857        120            70            120             75            130   \n",
       "\n",
       "       Speed_first  HP_second  Attack_second  Defense_second  Sp. Atk_second  \\\n",
       "33553           50         80             80              80              80   \n",
       "9427            71         39             52              43              60   \n",
       "199            125         53             51              53              61   \n",
       "12447           20         65             60              70              85   \n",
       "39489           15         90             95              95              70   \n",
       "...            ...        ...            ...             ...             ...   \n",
       "28567           60         60             80              95              70   \n",
       "25079           50        130             85              80              85   \n",
       "18707           79         79            105              70             145   \n",
       "15200           70         53             54              53              37   \n",
       "5857            85         45             20              50              60   \n",
       "\n",
       "       Sp. Def_second  Speed_second  \n",
       "33553              80            80  \n",
       "9427               50            65  \n",
       "199                56            40  \n",
       "12447              75            40  \n",
       "39489              90            70  \n",
       "...               ...           ...  \n",
       "28567              85            50  \n",
       "25079              95            60  \n",
       "18707              80           101  \n",
       "15200              46            45  \n",
       "5857              120            50  \n",
       "\n",
       "[10000 rows x 12 columns]"
      ]
     },
     "execution_count": 45,
     "metadata": {},
     "output_type": "execute_result"
    }
   ],
   "source": [
    "X_test"
   ]
  },
  {
   "cell_type": "code",
   "execution_count": 46,
   "metadata": {
    "colab": {
     "base_uri": "https://localhost:8080/",
     "height": 458
    },
    "id": "Q4iFRCNPm2Jq",
    "outputId": "03d7c711-326f-4ef2-8319-5ab20749d466"
   },
   "outputs": [
    {
     "data": {
      "text/plain": [
       "39087    650\n",
       "30893    151\n",
       "45278    340\n",
       "16398    139\n",
       "13653    132\n",
       "        ... \n",
       "11284    608\n",
       "44732    149\n",
       "38158    740\n",
       "860      465\n",
       "15795    350\n",
       "Name: Winner, Length: 40000, dtype: int64"
      ]
     },
     "execution_count": 46,
     "metadata": {},
     "output_type": "execute_result"
    }
   ],
   "source": [
    "y_train"
   ]
  },
  {
   "cell_type": "code",
   "execution_count": 47,
   "metadata": {
    "colab": {
     "base_uri": "https://localhost:8080/",
     "height": 458
    },
    "id": "-U4dlWV8m2Jq",
    "outputId": "63ef2a06-8daa-464f-f6f2-a9789fbfe956"
   },
   "outputs": [
    {
     "data": {
      "text/plain": [
       "33553    548\n",
       "9427     269\n",
       "199      513\n",
       "12447    149\n",
       "39489     86\n",
       "        ... \n",
       "28567    562\n",
       "25079    143\n",
       "18707    706\n",
       "15200     79\n",
       "5857     547\n",
       "Name: Winner, Length: 10000, dtype: int64"
      ]
     },
     "execution_count": 47,
     "metadata": {},
     "output_type": "execute_result"
    }
   ],
   "source": [
    "y_test"
   ]
  },
  {
   "cell_type": "markdown",
   "metadata": {
    "id": "MJ33i5fbm2Jq"
   },
   "source": [
    "Comprobamos que todo ha ido bien visualizando que `X_train` y `X_test` tiene distribuciones similares."
   ]
  },
  {
   "cell_type": "code",
   "execution_count": 48,
   "metadata": {
    "colab": {
     "base_uri": "https://localhost:8080/",
     "height": 607
    },
    "id": "330TVTSYm2Jq",
    "outputId": "0e5627fa-cbbb-48a5-c6b3-e96ab409f702"
   },
   "outputs": [
    {
     "data": {
      "image/png": "[encoded data removed]",
      "text/plain": [
       "<Figure size 1200x600 with 2 Axes>"
      ]
     },
     "metadata": {},
     "output_type": "display_data"
    }
   ],
   "source": [
    "# Convertir X_train y X_test de nuevo a DataFrames para poder usar etiquetas de columna\n",
    "column_names = ['HP_first', 'Attack_first', 'Defense_first', 'Sp. Atk_first', 'Sp. Def_first', 'Speed_first',\n",
    "\t\t\t\t'HP_second', 'Attack_second', 'Defense_second', 'Sp. Atk_second', 'Sp. Def_second', 'Speed_second']\n",
    "\n",
    "# Crear una figura con dos subgráficos (1 fila, 2 columnas)\n",
    "fig, axes = plt.subplots(1, 2, figsize=(12, 6))\n",
    "\n",
    "# Histograma para X_train_df['HP_first']\n",
    "axes[0].hist(X_train['HP_first'], edgecolor='black')\n",
    "axes[0].set_title('X_train HP_first')\n",
    "\n",
    "# Histograma para X_test_df['HP_first']\n",
    "axes[1].hist(X_test['HP_first'], edgecolor='black')\n",
    "axes[1].set_title('X_test HP_first')\n",
    "\n",
    "# Mostrar la figura con los dos histogramas\n",
    "plt.tight_layout()\n",
    "plt.show()"
   ]
  },
  {
   "cell_type": "markdown",
   "metadata": {
    "id": "7TY_7Bo5m2Jq"
   },
   "source": [
    "Probamos con otro atributo, `Attack_second`."
   ]
  },
  {
   "cell_type": "code",
   "execution_count": 49,
   "metadata": {
    "colab": {
     "base_uri": "https://localhost:8080/",
     "height": 607
    },
    "id": "Xg-vjlnum2Jr",
    "outputId": "f1f03fc8-5c1b-4ebd-8167-212b5144d25d"
   },
   "outputs": [
    {
     "data": {
      "image/png": "[encoded data removed]",
      "text/plain": [
       "<Figure size 1200x600 with 2 Axes>"
      ]
     },
     "metadata": {},
     "output_type": "display_data"
    }
   ],
   "source": [
    "# Crear una figura con dos subgráficos (1 fila, 2 columnas)\n",
    "fig, axes = plt.subplots(1, 2, figsize=(12, 6))\n",
    "\n",
    "# Histograma para X_train['housing_median_age']\n",
    "axes[0].hist(X_train['Attack_second'], edgecolor='black')\n",
    "axes[0].set_title('X_train Attack_second')\n",
    "\n",
    "# Histograma para X_test['housing_median_age']\n",
    "axes[1].hist(X_test['Attack_second'], edgecolor='black')\n",
    "axes[1].set_title('X_test Attack_second')\n",
    "\n",
    "# Mostrar la figura con los dos histogramas\n",
    "plt.tight_layout()\n",
    "plt.show()"
   ]
  },
  {
   "cell_type": "markdown",
   "metadata": {
    "id": "rbpHgfOsm2Jr"
   },
   "source": [
    "## Entrenamiento del modelo\n",
    "\n",
    "Vamos a probar varios algoritmos de entrenamiento e indicaremos cual es el que da mejores resultados."
   ]
  },
  {
   "cell_type": "code",
   "execution_count": 50,
   "metadata": {
    "colab": {
     "base_uri": "https://localhost:8080/"
    },
    "id": "YngmYDBQm2Jr",
    "outputId": "6072bf99-22a5-4cf5-ec47-f47bb7607acc"
   },
   "outputs": [
    {
     "name": "stdout",
     "output_type": "stream",
     "text": [
      "Model: Linear Regression\n",
      "Root Mean Squared Error: 228.66\n",
      "R2 Score: 0.02\n",
      "       Real  Predicted  Correct\n",
      "33553   548        439    False\n",
      "9427    269        422    False\n",
      "199     513        374    False\n",
      "12447   149        424    False\n",
      "39489    86        435    False\n",
      "\n",
      "\n",
      "Model: Decision Tree\n",
      "Root Mean Squared Error: 173.26\n",
      "R2 Score: 0.44\n",
      "       Real  Predicted  Correct\n",
      "33553   548        548     True\n",
      "9427    269        424    False\n",
      "199     513        513     True\n",
      "12447   149        665    False\n",
      "39489    86         86     True\n",
      "\n",
      "\n",
      "Model: Random Forest\n",
      "Root Mean Squared Error: 111.53\n",
      "R2 Score: 0.77\n",
      "       Real  Predicted  Correct\n",
      "33553   548        482    False\n",
      "9427    269        313    False\n",
      "199     513        513     True\n",
      "12447   149        332    False\n",
      "39489    86         95    False\n",
      "\n",
      "\n"
     ]
    }
   ],
   "source": [
    "from sklearn.linear_model import LinearRegression\n",
    "from sklearn.tree import DecisionTreeRegressor\n",
    "from sklearn.ensemble import RandomForestRegressor\n",
    "from sklearn.metrics import root_mean_squared_error, r2_score\n",
    "\n",
    "models = {\n",
    "  \"Linear Regression\": LinearRegression(),\n",
    "  \"Decision Tree\": DecisionTreeRegressor(),\n",
    "  \"Random Forest\": RandomForestRegressor()\n",
    "}\n",
    "\n",
    "results = []\n",
    "\n",
    "for name, model in models.items():\n",
    "  model.fit(X_train, y_train)\n",
    "  predictions = model.predict(X_test)\n",
    "\n",
    "  rmse = root_mean_squared_error(y_test, predictions)\n",
    "  r2 = r2_score(y_test, predictions)\n",
    "\n",
    "  result_df = pd.DataFrame({\n",
    "    'Real': y_test,\n",
    "    'Predicted': predictions.astype(int),\n",
    "    'Correct': y_test == predictions\n",
    "  })\n",
    "\n",
    "  results.append({\n",
    "    'Model': name,\n",
    "    'RMSE': round(rmse, 2),\n",
    "    'R2 Score': round(r2, 2),\n",
    "    'Result DataFrame': result_df\n",
    "  })\n",
    "\n",
    "  print(f\"Model: {name}\")\n",
    "  print(f\"Root Mean Squared Error: {round(rmse, 2)}\")\n",
    "  print(f\"R2 Score: {round(r2, 2)}\")\n",
    "  print(result_df.head())\n",
    "  print(\"\\n\")"
   ]
  },
  {
   "cell_type": "code",
   "execution_count": 51,
   "metadata": {},
   "outputs": [
    {
     "data": {
      "image/png": "[encoded data removed]",
      "text/plain": [
       "<Figure size 1000x600 with 1 Axes>"
      ]
     },
     "metadata": {},
     "output_type": "display_data"
    },
    {
     "name": "stdout",
     "output_type": "stream",
     "text": [
      "El mejor modelo es Random Forest con un R2 Score de 0.77\n"
     ]
    }
   ],
   "source": [
    "# Crear un DataFrame con los resultados para facilitar la visualización\n",
    "results_df_only_stats = pd.DataFrame(results)\n",
    "\n",
    "# Crear una gráfica de barras para mostrar el R2 Score de cada modelo\n",
    "plt.figure(figsize=(10, 6))\n",
    "sns.barplot(x='Model', y='R2 Score', data=results_df_only_stats)\n",
    "plt.title('R2 Score de cada modelo')\n",
    "plt.ylabel('R2 Score')\n",
    "plt.xlabel('Modelo')\n",
    "plt.show()\n",
    "\n",
    "best_model = max(results, key=lambda x: x['R2 Score'])\n",
    "print(f\"El mejor modelo es {best_model['Model']} con un R2 Score de {best_model['R2 Score']}\")"
   ]
  },
  {
   "cell_type": "markdown",
   "metadata": {
    "id": "109MqoBim2Js"
   },
   "source": [
    "## Conclusiones\n",
    "Como podemos ver el modelo que realiza predicciones más precisas y que por lo tanto tiene mejor `R2 Score` es el model entrenado con el algoritmo `RandomForestRegressor()`.\n",
    "\n",
    "En este caso he obviado los tipos de cada pokemon ya que podían ser conflictivos, vamos a realizar la prueba manteniendo los tipos de cada pokemon para ver que resultados obtenemos."
   ]
  },
  {
   "cell_type": "markdown",
   "metadata": {
    "id": "8LMW9lIBm2Js"
   },
   "source": [
    "## Preparación de datos II"
   ]
  },
  {
   "cell_type": "code",
   "execution_count": 52,
   "metadata": {
    "id": "OHiSADC_m2Js"
   },
   "outputs": [],
   "source": [
    "try:\n",
    "  pokemon = pd.read_csv('/content/drive/MyDrive/Colab Notebooks/IA/datasets/pokemon.csv')\n",
    "  combats = pd.read_csv('/content/drive/MyDrive/Colab Notebooks/IA/datasets/combats.csv')\n",
    "except FileNotFoundError:\n",
    "  pokemon = pd.read_csv('./data/pokemon.csv')\n",
    "  combats = pd.read_csv('./data/combats.csv')"
   ]
  },
  {
   "cell_type": "markdown",
   "metadata": {
    "id": "1-ZXNeI0m2Js"
   },
   "source": [
    "### Gestión de nulos II\n",
    "Como en este caso vamos a tener en cuenta los tipos, tenemos que gestionar los nulos que hay para el Type 2."
   ]
  },
  {
   "cell_type": "code",
   "execution_count": 53,
   "metadata": {
    "colab": {
     "base_uri": "https://localhost:8080/",
     "height": 460
    },
    "id": "tBYujikUm2Js",
    "outputId": "aa7a5210-2ffd-4580-8f40-d78fd1177310"
   },
   "outputs": [
    {
     "data": {
      "text/plain": [
       "#               0\n",
       "Name            0\n",
       "Type 1          0\n",
       "Type 2        386\n",
       "HP              0\n",
       "Attack          0\n",
       "Defense         0\n",
       "Sp. Atk         0\n",
       "Sp. Def         0\n",
       "Speed           0\n",
       "Generation      0\n",
       "Legendary       0\n",
       "dtype: int64"
      ]
     },
     "execution_count": 53,
     "metadata": {},
     "output_type": "execute_result"
    }
   ],
   "source": [
    "pokemon.isnull().sum()"
   ]
  },
  {
   "cell_type": "markdown",
   "metadata": {
    "id": "_jPMm9-Rm2Js"
   },
   "source": [
    "Vamos a probar con tres estrategias:\n",
    " - Rellenar los `NaN` con el string`'Other'`.\n",
    " - Rellenar los `NaN` con el valor más común para `Type 2`.\n",
    " - Rellenar los `NaN` con el valor superior, es decir, el de la fila anterior."
   ]
  },
  {
   "cell_type": "code",
   "execution_count": 54,
   "metadata": {
    "colab": {
     "base_uri": "https://localhost:8080/"
    },
    "id": "41L5tNonm2Js",
    "outputId": "c4042e0e-5d10-4cbb-d0d6-eee1d39ed5e8"
   },
   "outputs": [
    {
     "name": "stdout",
     "output_type": "stream",
     "text": [
      "El valor más común para la columna Type2 es: Flying \n",
      "\n",
      "Nulos en Type2 en pokemon_other: 0\n",
      "Nulos en Type2 en pokemon_common: 0\n",
      "Nulos en Type2 en pokemon_prev: 0\n"
     ]
    }
   ],
   "source": [
    "# Primero renombro la columna # para que sea más fácil hacer el join posteriormente\n",
    "pokemon.rename(columns={'#': 'Id'}, inplace=True)\n",
    "\n",
    "# Convierto la columna Legendary a valores numéricos\n",
    "pokemon['Legendary'] = pokemon['Legendary'].astype(int)\n",
    "\n",
    "# Rellenar los valores nulos de la columna Type 2 con la cadena 'Other'\n",
    "pokemon_other = pokemon.fillna(value={'Type 2': 'Other'})\n",
    "\n",
    "# Rellenar los valores nulos de la columna Type 2 con el valor más común\n",
    "print(\"El valor más común para la columna Type2 es:\", pokemon['Type 2'].value_counts().idxmax(), '\\n')\n",
    "pokemon_common = pokemon.fillna(value={'Type 2': 'Flying'})\n",
    "\n",
    "# Rellenar los valores nulos de la columna Type 2 con el valor anterior\n",
    "pokemon_prev = pokemon.ffill()\n",
    "\n",
    "# Contamos los nulos en cada nuevo DataFrame\n",
    "\n",
    "print(\"Nulos en Type2 en pokemon_other:\",pokemon_other['Type 2'].isnull().sum())\n",
    "print(\"Nulos en Type2 en pokemon_common:\", pokemon_common['Type 2'].isnull().sum())\n",
    "print(\"Nulos en Type2 en pokemon_prev:\", pokemon_prev['Type 2'].isnull().sum())\n"
   ]
  },
  {
   "cell_type": "markdown",
   "metadata": {
    "id": "OMX3TM93m2Jt"
   },
   "source": [
    "### Separación de la matriz de características $X$ de los datos de salida $y$ (target) II\n",
    "\n",
    "Preparamos los datos con cada subconjunto con los valores rellenos de diferente manera"
   ]
  },
  {
   "cell_type": "code",
   "execution_count": 55,
   "metadata": {
    "id": "Wtk5pmRUm2Jt"
   },
   "outputs": [],
   "source": [
    "# Repido lo mismo para cada tipo de relleno\n",
    "\n",
    "# NaN rellenados con 'Other' _______________________________________________________\n",
    "# Uno los datos de combates con los datos de los pokemons\n",
    "combats_other = combats.merge(pokemon_other, left_on='First_pokemon', right_on='Id')\n",
    "combats_other = combats_other.merge(pokemon_other, left_on='Second_pokemon', right_on='Id', suffixes=('_first', '_second'))\n",
    "\n",
    "# Crear características para el modelo\n",
    "features_other = combats_other[['Type 1_first', 'Type 2_first', 'HP_first', 'Attack_first', 'Defense_first', 'Sp. Atk_first', 'Sp. Def_first', 'Speed_first', 'Legendary_first',\n",
    "      'Type 1_second', 'Type 2_second', 'HP_second', 'Attack_second', 'Defense_second', 'Sp. Atk_second', 'Sp. Def_second', 'Speed_second', 'Legendary_second']]\n",
    "\n",
    "# NaN rellenados con 'Flying' _______________________________________________________\n",
    "# Uno los datos de combates con los datos de los pokemons\n",
    "combats_common = combats.merge(pokemon_common, left_on='First_pokemon', right_on='Id')\n",
    "combats_common = combats_common.merge(pokemon_common, left_on='Second_pokemon', right_on='Id', suffixes=('_first', '_second'))\n",
    "\n",
    "# Crear características para el modelo\n",
    "features_common = combats_common[['Type 1_first', 'Type 2_first', 'HP_first', 'Attack_first', 'Defense_first', 'Sp. Atk_first', 'Sp. Def_first', 'Speed_first', 'Legendary_first',\n",
    "  'Type 1_second', 'Type 2_second', 'HP_second', 'Attack_second', 'Defense_second', 'Sp. Atk_second', 'Sp. Def_second', 'Speed_second', 'Legendary_second']]\n",
    "\n",
    "# NaN rellenados con el valor anterior _______________________________________________________\n",
    "# Uno los datos de combates con los datos de los pokemons\n",
    "combats_prev = combats.merge(pokemon_prev, left_on='First_pokemon', right_on='Id')\n",
    "combats_prev = combats_prev.merge(pokemon_prev, left_on='Second_pokemon', right_on='Id', suffixes=('_first', '_second'))\n",
    "\n",
    "# Crear características para el modelo\n",
    "features_prev = combats_prev[['Type 1_first', 'Type 2_first', 'HP_first', 'Attack_first', 'Defense_first', 'Sp. Atk_first', 'Sp. Def_first', 'Speed_first', 'Legendary_first',\n",
    "        'Type 1_second', 'Type 2_second', 'HP_second', 'Attack_second', 'Defense_second', 'Sp. Atk_second', 'Sp. Def_second', 'Speed_second', 'Legendary_second']]\n",
    "\n",
    "# En labels guardo la columna Winner que será el target\n",
    "labels = combats['Winner']"
   ]
  },
  {
   "cell_type": "markdown",
   "metadata": {
    "id": "c0ADDAzmm2Jt"
   },
   "source": [
    "Dado que las columnas Type 1 y Type 2 son de tipo `Object` (string) debemos pasarlas a valores númericos antes de entrenar nuestros modelos, pobaremos 2 estrategias:\n",
    "\n",
    "- One-Hot Encoding: Esta técnica crea una columna para cada tipo de Pokémon, asignando un valor de 1 si el Pokémon es de ese tipo y 0 en caso contrario.\n",
    "\n",
    "- Label Encoding: Esta técnica convierte cada tipo en un número único."
   ]
  },
  {
   "cell_type": "code",
   "execution_count": 56,
   "metadata": {
    "id": "UL9AQG8Ym2Jt"
   },
   "outputs": [],
   "source": [
    "from sklearn.model_selection import train_test_split\n",
    "import pandas as pd\n",
    "\n",
    "# Aplica one-hot encoding a las columnas 'Type 1' y 'Type 2' para cada conjunto de datos\n",
    "features_other_encoded = pd.get_dummies(features_other, columns=['Type 1_first', 'Type 2_first', 'Type 1_second', 'Type 2_second'])\n",
    "features_common_encoded = pd.get_dummies(features_common, columns=['Type 1_first', 'Type 2_first', 'Type 1_second', 'Type 2_second'])\n",
    "features_prev_encoded = pd.get_dummies(features_prev, columns=['Type 1_first', 'Type 2_first', 'Type 1_second', 'Type 2_second'])\n"
   ]
  },
  {
   "cell_type": "code",
   "execution_count": 57,
   "metadata": {
    "id": "WzI7sm37m2Jt"
   },
   "outputs": [],
   "source": [
    "from sklearn.preprocessing import LabelEncoder\n",
    "\n",
    "# Inicializa el codificador\n",
    "le = LabelEncoder()\n",
    "\n",
    "# Aplica label encoding a las columnas de tipo\n",
    "for col in ['Type 1_first', 'Type 2_first', 'Type 1_second', 'Type 2_second']:\n",
    "    features_other.loc[:, col] = le.fit_transform(features_other[col])\n",
    "    features_common.loc[:, col] = le.transform(features_common[col])\n",
    "    features_prev.loc[:, col] = le.transform(features_prev[col])"
   ]
  },
  {
   "cell_type": "markdown",
   "metadata": {
    "id": "x7MG4_3Wm2Jt"
   },
   "source": [
    "Crearemos `X_train` y `X_test` con cada estrategia de gestión de nulos y estrategia de encode para ver cual da mejor resultado."
   ]
  },
  {
   "cell_type": "code",
   "execution_count": 58,
   "metadata": {
    "id": "lpAbS2bEm2Jt"
   },
   "outputs": [],
   "source": [
    "# División de datos para cada conjunto con One-Hot Encoding\n",
    "X_train_other_oneHot, X_test_other_oneHot, y_train, y_test = train_test_split(features_other_encoded, labels, test_size=0.2, random_state=42, shuffle=True)\n",
    "X_train_common_oneHot, X_test_common_oneHot, _, _ = train_test_split(features_common_encoded, labels, test_size=0.2, random_state=42, shuffle=True)\n",
    "X_train_prev_oneHot, X_test_prev_oneHot, _, _ = train_test_split(features_prev_encoded, labels, test_size=0.2, random_state=42, shuffle=True)\n",
    "\n",
    "# División de datos para cada conjunto con Label Encoding\n",
    "X_train_other_label, X_test_other_label, y_train, y_test = train_test_split(features_other, labels, test_size=0.2, random_state=42, shuffle=True)\n",
    "X_train_common_label, X_test_common_label, _, _ = train_test_split(features_common, labels, test_size=0.2, random_state=42, shuffle=True)\n",
    "X_train_prev_label, X_test_prev_label, _, _ = train_test_split(features_prev, labels, test_size=0.2, random_state=42, shuffle=True)"
   ]
  },
  {
   "cell_type": "markdown",
   "metadata": {
    "id": "c4I4Qxdzm2Ju"
   },
   "source": [
    "## Entrenamiento de los modelos II"
   ]
  },
  {
   "cell_type": "code",
   "execution_count": 59,
   "metadata": {
    "colab": {
     "base_uri": "https://localhost:8080/"
    },
    "id": "zHndMDnOm2Ju",
    "outputId": "2d40b7d7-d2fb-4f96-ee37-58d5b4903555"
   },
   "outputs": [
    {
     "name": "stdout",
     "output_type": "stream",
     "text": [
      "Subset: One-Hot_Other, Model: Linear Regression\n",
      "Root Mean Squared Error: 215.72\n",
      "R2 Score: 0.13\n",
      "       Real  Predicted  Correct\n",
      "33553   548        371    False\n",
      "9427    269        369    False\n",
      "199     513        393    False\n",
      "12447   149        444    False\n",
      "39489    86        452    False\n",
      "\n",
      "\n",
      "Subset: One-Hot_Other, Model: Decision Tree\n",
      "Root Mean Squared Error: 163.19\n",
      "R2 Score: 0.5\n",
      "       Real  Predicted  Correct\n",
      "33553   548        548     True\n",
      "9427    269        269     True\n",
      "199     513        513     True\n",
      "12447   149        214    False\n",
      "39489    86         86     True\n",
      "\n",
      "\n",
      "Subset: One-Hot_Other, Model: Random Forest\n",
      "Root Mean Squared Error: 113.07\n",
      "R2 Score: 0.76\n",
      "       Real  Predicted  Correct\n",
      "33553   548        522    False\n",
      "9427    269        289    False\n",
      "199     513        511    False\n",
      "12447   149        363    False\n",
      "39489    86         88    False\n",
      "\n",
      "\n",
      "Subset: One-Hot_Common, Model: Linear Regression\n",
      "Root Mean Squared Error: 216.01\n",
      "R2 Score: 0.12\n",
      "       Real  Predicted  Correct\n",
      "33553   548        366    False\n",
      "9427    269        364    False\n",
      "199     513        389    False\n",
      "12447   149        440    False\n",
      "39489    86        459    False\n",
      "\n",
      "\n",
      "Subset: One-Hot_Common, Model: Decision Tree\n",
      "Root Mean Squared Error: 177.0\n",
      "R2 Score: 0.41\n",
      "       Real  Predicted  Correct\n",
      "33553   548        548     True\n",
      "9427    269        170    False\n",
      "199     513        513     True\n",
      "12447   149        330    False\n",
      "39489    86         86     True\n",
      "\n",
      "\n",
      "Subset: One-Hot_Common, Model: Random Forest\n",
      "Root Mean Squared Error: 120.86\n",
      "R2 Score: 0.73\n",
      "       Real  Predicted  Correct\n",
      "33553   548        546    False\n",
      "9427    269        259    False\n",
      "199     513        505    False\n",
      "12447   149        353    False\n",
      "39489    86        113    False\n",
      "\n",
      "\n",
      "Subset: One-Hot_Prev, Model: Linear Regression\n",
      "Root Mean Squared Error: 211.84\n",
      "R2 Score: 0.16\n",
      "       Real  Predicted  Correct\n",
      "33553   548        479    False\n",
      "9427    269        318    False\n",
      "199     513        415    False\n",
      "12447   149        431    False\n",
      "39489    86        380    False\n",
      "\n",
      "\n",
      "Subset: One-Hot_Prev, Model: Decision Tree\n",
      "Root Mean Squared Error: 166.8\n",
      "R2 Score: 0.48\n",
      "       Real  Predicted  Correct\n",
      "33553   548        548     True\n",
      "9427    269        299    False\n",
      "199     513        513     True\n",
      "12447   149        241    False\n",
      "39489    86         86     True\n",
      "\n",
      "\n",
      "Subset: One-Hot_Prev, Model: Random Forest\n",
      "Root Mean Squared Error: 116.03\n",
      "R2 Score: 0.75\n",
      "       Real  Predicted  Correct\n",
      "33553   548        475    False\n",
      "9427    269        248    False\n",
      "199     513        509    False\n",
      "12447   149        330    False\n",
      "39489    86         87    False\n",
      "\n",
      "\n",
      "Subset: Label_Other, Model: Linear Regression\n",
      "Root Mean Squared Error: 225.73\n",
      "R2 Score: 0.04\n",
      "       Real  Predicted  Correct\n",
      "33553   548        395    False\n",
      "9427    269        413    False\n",
      "199     513        354    False\n",
      "12447   149        437    False\n",
      "39489    86        406    False\n",
      "\n",
      "\n",
      "Subset: Label_Other, Model: Decision Tree\n",
      "Root Mean Squared Error: 169.02\n",
      "R2 Score: 0.46\n",
      "       Real  Predicted  Correct\n",
      "33553   548        548     True\n",
      "9427    269        269     True\n",
      "199     513        513     True\n",
      "12447   149         82    False\n",
      "39489    86         86     True\n",
      "\n",
      "\n",
      "Subset: Label_Other, Model: Random Forest\n",
      "Root Mean Squared Error: 114.9\n",
      "R2 Score: 0.75\n",
      "       Real  Predicted  Correct\n",
      "33553   548        523    False\n",
      "9427    269        273    False\n",
      "199     513        513     True\n",
      "12447   149        313    False\n",
      "39489    86        107    False\n",
      "\n",
      "\n",
      "Subset: Label_Common, Model: Linear Regression\n",
      "Root Mean Squared Error: 226.05\n",
      "R2 Score: 0.04\n",
      "       Real  Predicted  Correct\n",
      "33553   548        415    False\n",
      "9427    269        410    False\n",
      "199     513        355    False\n",
      "12447   149        437    False\n",
      "39489    86        385    False\n",
      "\n",
      "\n",
      "Subset: Label_Common, Model: Decision Tree\n",
      "Root Mean Squared Error: 186.71\n",
      "R2 Score: 0.35\n",
      "       Real  Predicted  Correct\n",
      "33553   548        548     True\n",
      "9427    269        269     True\n",
      "199     513        513     True\n",
      "12447   149        117    False\n",
      "39489    86         86     True\n",
      "\n",
      "\n",
      "Subset: Label_Common, Model: Random Forest\n",
      "Root Mean Squared Error: 113.65\n",
      "R2 Score: 0.76\n",
      "       Real  Predicted  Correct\n",
      "33553   548        541    False\n",
      "9427    269        264    False\n",
      "199     513        513     True\n",
      "12447   149        277    False\n",
      "39489    86        107    False\n",
      "\n",
      "\n",
      "Subset: Label_Prev, Model: Linear Regression\n",
      "Root Mean Squared Error: 224.46\n",
      "R2 Score: 0.05\n",
      "       Real  Predicted  Correct\n",
      "33553   548        402    False\n",
      "9427    269        406    False\n",
      "199     513        364    False\n",
      "12447   149        438    False\n",
      "39489    86        385    False\n",
      "\n",
      "\n",
      "Subset: Label_Prev, Model: Decision Tree\n",
      "Root Mean Squared Error: 172.26\n",
      "R2 Score: 0.44\n",
      "       Real  Predicted  Correct\n",
      "33553   548        548     True\n",
      "9427    269         92    False\n",
      "199     513        513     True\n",
      "12447   149        105    False\n",
      "39489    86         86     True\n",
      "\n",
      "\n",
      "Subset: Label_Prev, Model: Random Forest\n",
      "Root Mean Squared Error: 113.79\n",
      "R2 Score: 0.76\n",
      "       Real  Predicted  Correct\n",
      "33553   548        410    False\n",
      "9427    269        262    False\n",
      "199     513        504    False\n",
      "12447   149        240    False\n",
      "39489    86        118    False\n",
      "\n",
      "\n"
     ]
    }
   ],
   "source": [
    "# Este bucle prueba los tres algoritmos de entrenamiento para los tres tipos de relleno y muestra cual es el mejor\n",
    "\n",
    "models = {\n",
    "  \"Linear Regression\": LinearRegression(),\n",
    "  \"Decision Tree\": DecisionTreeRegressor(),\n",
    "  \"Random Forest\": RandomForestRegressor()\n",
    "}\n",
    "\n",
    "results = []\n",
    "\n",
    "subsets = {\n",
    "  \"One-Hot_Other\": (X_train_other_oneHot, X_test_other_oneHot),\n",
    "  \"One-Hot_Common\": (X_train_common_oneHot, X_test_common_oneHot),\n",
    "  \"One-Hot_Prev\": (X_train_prev_oneHot, X_test_prev_oneHot),\n",
    "  \"Label_Other\": (X_train_other_label, X_test_other_label),\n",
    "  \"Label_Common\": (X_train_common_label, X_test_common_label),\n",
    "  \"Label_Prev\": (X_train_prev_label, X_test_prev_label)\n",
    "}\n",
    "\n",
    "for subset_name, subset in subsets.items():\n",
    "  for name, model in models.items():\n",
    "    model.fit(subset[0], y_train)\n",
    "    predictions = model.predict(subset[1])\n",
    "\n",
    "    rmse = root_mean_squared_error(y_test, predictions)\n",
    "    r2 = r2_score(y_test, predictions)\n",
    "\n",
    "    result_df = pd.DataFrame({\n",
    "      'Real': y_test,\n",
    "      'Predicted': predictions.astype(int),\n",
    "      'Correct': y_test == predictions\n",
    "    })\n",
    "\n",
    "    results.append({\n",
    "      'Subset': subset_name,\n",
    "      'Model': name,\n",
    "      'RMSE': round(rmse, 2),\n",
    "      'R2 Score': round(r2, 2),\n",
    "      'Result DataFrame': result_df\n",
    "    })\n",
    "\n",
    "    print(f\"Subset: {subset_name}, Model: {name}\")\n",
    "    print(f\"Root Mean Squared Error: {round(rmse, 2)}\")\n",
    "    print(f\"R2 Score: {round(r2, 2)}\")\n",
    "    print(result_df.head())\n",
    "    print(\"\\n\")\n",
    "    \n",
    "\n"
   ]
  },
  {
   "cell_type": "code",
   "execution_count": 60,
   "metadata": {
    "colab": {
     "base_uri": "https://localhost:8080/"
    },
    "id": "Vlb44kMFm2Ju",
    "outputId": "c9378dac-b657-41ab-e7c2-5440de348ade"
   },
   "outputs": [
    {
     "data": {
      "image/png": "[encoded data removed]",
      "text/plain": [
       "<Figure size 1200x600 with 1 Axes>"
      ]
     },
     "metadata": {},
     "output_type": "display_data"
    },
    {
     "name": "stdout",
     "output_type": "stream",
     "text": [
      "El mejor modelo es Random Forest con un R2 Score de 0.76 y el mejor relleno es One-Hot_Other\n"
     ]
    }
   ],
   "source": [
    "# Crear un DataFrame con los resultados para facilitar la visualización\n",
    "results_df = pd.DataFrame(results)\n",
    "\n",
    "# Añadir el nuevo subset Only_Stats al DataFrame\n",
    "results_df_only_stats['Subset'] = 'Only_Stats'\n",
    "results_df = pd.concat([results_df, results_df_only_stats])\n",
    "\n",
    "# Crear una gráfica de barras para los R2 Scores\n",
    "plt.figure(figsize=(12, 6))\n",
    "sns.barplot(x='Model', y='R2 Score', hue='Subset', data=results_df)\n",
    "plt.xlabel('Model')\n",
    "plt.ylabel('R2 Score')\n",
    "plt.title('R2 Scores for Different Models and Subsets')\n",
    "plt.xticks(rotation=90)\n",
    "plt.legend(title='Subset')\n",
    "plt.show()\n",
    "\n",
    "best_model = max(results, key=lambda x: x['R2 Score'])\n",
    "print(f\"El mejor modelo es {best_model['Model']} con un R2 Score de {best_model['R2 Score']} y el mejor relleno es {best_model['Subset']}\")"
   ]
  },
  {
   "cell_type": "markdown",
   "metadata": {
    "id": "MtpFcLQzm2Ju"
   },
   "source": [
    "## Conclusiones finales\n",
    "\n",
    "Podemos ver que incluir los tipos de los pokemons y si son o no legendarios no ayudan a mejorar la precisión de los diferente modelos, en algunos de ellos, como por ejemplo el entrenado con `LinearRegression` estos datos le hacen tener incluso sobre todo con `Label Encoder`.\n",
    "\n",
    "Por lo tanto mi conclusión final es que el mejor algoritmo de entrenamiento es el `Random Forest` con el `One Hot encoder` sustituyendo los tipos NaN con la palabra 'Other'. Además podemos añadir que como habiamos concluido en primera instancia, los datos de tipo de cada pokemon no son realmente relevante en el combate.\n"
   ]
  },
  {
   "cell_type": "code",
   "execution_count": 61,
   "metadata": {},
   "outputs": [
    {
     "data": {
      "text/html": [
       "<div>\n",
       "<style scoped>\n",
       "    .dataframe tbody tr th:only-of-type {\n",
       "        vertical-align: middle;\n",
       "    }\n",
       "\n",
       "    .dataframe tbody tr th {\n",
       "        vertical-align: top;\n",
       "    }\n",
       "\n",
       "    .dataframe thead th {\n",
       "        text-align: right;\n",
       "    }\n",
       "</style>\n",
       "<table border=\"1\" class=\"dataframe\">\n",
       "  <thead>\n",
       "    <tr style=\"text-align: right;\">\n",
       "      <th></th>\n",
       "      <th>Model</th>\n",
       "      <th>RMSE</th>\n",
       "      <th>R2 Score</th>\n",
       "      <th>Result DataFrame</th>\n",
       "      <th>Subset</th>\n",
       "    </tr>\n",
       "  </thead>\n",
       "  <tbody>\n",
       "    <tr>\n",
       "      <th>0</th>\n",
       "      <td>Linear Regression</td>\n",
       "      <td>228.66</td>\n",
       "      <td>0.02</td>\n",
       "      <td>Real  Predicted  Correct\n",
       "33553   548   ...</td>\n",
       "      <td>Only_Stats</td>\n",
       "    </tr>\n",
       "    <tr>\n",
       "      <th>1</th>\n",
       "      <td>Decision Tree</td>\n",
       "      <td>173.26</td>\n",
       "      <td>0.44</td>\n",
       "      <td>Real  Predicted  Correct\n",
       "33553   548   ...</td>\n",
       "      <td>Only_Stats</td>\n",
       "    </tr>\n",
       "    <tr>\n",
       "      <th>2</th>\n",
       "      <td>Random Forest</td>\n",
       "      <td>111.53</td>\n",
       "      <td>0.77</td>\n",
       "      <td>Real  Predicted  Correct\n",
       "33553   548   ...</td>\n",
       "      <td>Only_Stats</td>\n",
       "    </tr>\n",
       "  </tbody>\n",
       "</table>\n",
       "</div>"
      ],
      "text/plain": [
       "               Model    RMSE  R2 Score  \\\n",
       "0  Linear Regression  228.66      0.02   \n",
       "1      Decision Tree  173.26      0.44   \n",
       "2      Random Forest  111.53      0.77   \n",
       "\n",
       "                                    Result DataFrame      Subset  \n",
       "0         Real  Predicted  Correct\n",
       "33553   548   ...  Only_Stats  \n",
       "1         Real  Predicted  Correct\n",
       "33553   548   ...  Only_Stats  \n",
       "2         Real  Predicted  Correct\n",
       "33553   548   ...  Only_Stats  "
      ]
     },
     "execution_count": 61,
     "metadata": {},
     "output_type": "execute_result"
    }
   ],
   "source": [
    "results_df_only_stats"
   ]
  }
 ],
 "metadata": {
  "colab": {
   "provenance": []
  },
  "kernelspec": {
   "display_name": "Python 3",
   "language": "python",
   "name": "python3"
  },
  "language_info": {
   "codemirror_mode": {
    "name": "ipython",
    "version": 3
   },
   "file_extension": ".py",
   "mimetype": "text/x-python",
   "name": "python",
   "nbconvert_exporter": "python",
   "pygments_lexer": "ipython3",
   "version": "3.12.7"
  }
 },
 "nbformat": 4,
 "nbformat_minor": 0
}
